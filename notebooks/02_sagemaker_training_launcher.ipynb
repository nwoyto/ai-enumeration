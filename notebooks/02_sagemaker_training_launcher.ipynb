{
 "cells": [
  {
   "cell_type": "code",
   "execution_count": null,
   "metadata": {},
   "outputs": [],
   "source": [
    "import sagemaker\n",
    "from sagemaker.processing import ScriptProcessor\n",
    "from sagemaker.local import LocalSession\n",
    "\n",
    "# Set up local session\n",
    "sagemaker_local_session = LocalSession()\n",
    "sagemaker_local_session.config = {'local': {'local_code': True}}\n",
    "\n",
    "# Use your ECR image URI\n",
    "image_uri = \"<your-ecr-image-uri>\"\n",
    "\n",
    "processor = ScriptProcessor(\n",
    "    image_uri=image_uri,\n",
    "    command=[\"python3\"],\n",
    "    instance_type=\"local\",\n",
    "    instance_count=1,\n",
    "    base_job_name=\"container-test\",\n",
    "    sagemaker_session=sagemaker_local_session,\n",
    "    role=\"<your-sagemaker-execution-role>\"\n",
    ")\n",
    "\n",
    "processor.run(\n",
    "    code=\"preprocessing/process_data_job.py\",  # or another test script\n",
    "    arguments=[],\n",
    "    wait=True\n",
    ")"
   ]
  }
 ],
 "metadata": {
  "language_info": {
   "name": "python"
  }
 },
 "nbformat": 4,
 "nbformat_minor": 2
}
